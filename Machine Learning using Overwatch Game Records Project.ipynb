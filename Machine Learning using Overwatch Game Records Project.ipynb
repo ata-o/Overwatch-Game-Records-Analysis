{
 "cells": [
  {
   "cell_type": "markdown",
   "metadata": {},
   "source": [
    "CENG499 Project\n",
    "----------------\n",
    "Berkay ÇINAR - 201511013\n",
    "Celal ŞAHİN - 201411056\n",
    "Onur Ata SARITAŞ - 201511049"
   ]
  },
  {
   "cell_type": "code",
   "execution_count": 256,
   "metadata": {},
   "outputs": [],
   "source": [
    "#Importing necessary libraries\n",
    "import pandas as pd\n",
    "import numpy as np\n",
    "from pandas import DataFrame, Series\n",
    "%matplotlib inline\n",
    "import seaborn as sns\n",
    "from sklearn import metrics\n",
    "from sklearn.neighbors import KNeighborsClassifier\n",
    "from sklearn.linear_model import LogisticRegression\n",
    "from sklearn.model_selection import train_test_split\n",
    "from sklearn.datasets import make_blobs"
   ]
  },
  {
   "cell_type": "code",
   "execution_count": 257,
   "metadata": {},
   "outputs": [
    {
     "data": {
      "text/html": [
       "<div>\n",
       "<style scoped>\n",
       "    .dataframe tbody tr th:only-of-type {\n",
       "        vertical-align: middle;\n",
       "    }\n",
       "\n",
       "    .dataframe tbody tr th {\n",
       "        vertical-align: top;\n",
       "    }\n",
       "\n",
       "    .dataframe thead th {\n",
       "        text-align: right;\n",
       "    }\n",
       "</style>\n",
       "<table border=\"1\" class=\"dataframe\">\n",
       "  <thead>\n",
       "    <tr style=\"text-align: right;\">\n",
       "      <th></th>\n",
       "      <th>Game #</th>\n",
       "      <th>Start SR</th>\n",
       "      <th>End SR</th>\n",
       "      <th>SR Change</th>\n",
       "      <th>Team SR avg</th>\n",
       "      <th>Enemy SR avg</th>\n",
       "      <th>Team Stack</th>\n",
       "      <th>Enemy Stack</th>\n",
       "      <th>Role 1</th>\n",
       "      <th>Role 2</th>\n",
       "      <th>...</th>\n",
       "      <th>Obj_time_career</th>\n",
       "      <th>Obj_time_medal</th>\n",
       "      <th>Dmg</th>\n",
       "      <th>Dmg_career</th>\n",
       "      <th>Dmg_medal</th>\n",
       "      <th>Heal</th>\n",
       "      <th>Heal_career</th>\n",
       "      <th>Heal_medal</th>\n",
       "      <th>Death</th>\n",
       "      <th>Death_career</th>\n",
       "    </tr>\n",
       "  </thead>\n",
       "  <tbody>\n",
       "    <tr>\n",
       "      <th>0</th>\n",
       "      <td>108</td>\n",
       "      <td>1806</td>\n",
       "      <td>1787</td>\n",
       "      <td>-19</td>\n",
       "      <td>1831</td>\n",
       "      <td>P</td>\n",
       "      <td>NaN</td>\n",
       "      <td>NaN</td>\n",
       "      <td>Support</td>\n",
       "      <td>NaN</td>\n",
       "      <td>...</td>\n",
       "      <td>01:32</td>\n",
       "      <td>NaN</td>\n",
       "      <td>10615.0</td>\n",
       "      <td>5435.0</td>\n",
       "      <td>NaN</td>\n",
       "      <td>9711.0</td>\n",
       "      <td>7844.0</td>\n",
       "      <td>NaN</td>\n",
       "      <td>13.0</td>\n",
       "      <td>6.65</td>\n",
       "    </tr>\n",
       "    <tr>\n",
       "      <th>1</th>\n",
       "      <td>109</td>\n",
       "      <td>1787</td>\n",
       "      <td>1787</td>\n",
       "      <td>0</td>\n",
       "      <td>1836</td>\n",
       "      <td>1847</td>\n",
       "      <td>NaN</td>\n",
       "      <td>NaN</td>\n",
       "      <td>Offense</td>\n",
       "      <td>Support</td>\n",
       "      <td>...</td>\n",
       "      <td>01:27</td>\n",
       "      <td>NaN</td>\n",
       "      <td>5973.0</td>\n",
       "      <td>5246.0</td>\n",
       "      <td>NaN</td>\n",
       "      <td>1958.0</td>\n",
       "      <td>6651.0</td>\n",
       "      <td>NaN</td>\n",
       "      <td>6.0</td>\n",
       "      <td>6.97</td>\n",
       "    </tr>\n",
       "    <tr>\n",
       "      <th>2</th>\n",
       "      <td>110</td>\n",
       "      <td>1787</td>\n",
       "      <td>1812</td>\n",
       "      <td>25</td>\n",
       "      <td>1817</td>\n",
       "      <td>1818</td>\n",
       "      <td>NaN</td>\n",
       "      <td>NaN</td>\n",
       "      <td>Tank</td>\n",
       "      <td>NaN</td>\n",
       "      <td>...</td>\n",
       "      <td>01:27</td>\n",
       "      <td>Bronze</td>\n",
       "      <td>6959.0</td>\n",
       "      <td>5257.0</td>\n",
       "      <td>Silver</td>\n",
       "      <td>0.0</td>\n",
       "      <td>6594.0</td>\n",
       "      <td>None</td>\n",
       "      <td>5.0</td>\n",
       "      <td>6.95</td>\n",
       "    </tr>\n",
       "    <tr>\n",
       "      <th>3</th>\n",
       "      <td>111</td>\n",
       "      <td>1812</td>\n",
       "      <td>1841</td>\n",
       "      <td>29</td>\n",
       "      <td>1827</td>\n",
       "      <td>1839</td>\n",
       "      <td>NaN</td>\n",
       "      <td>NaN</td>\n",
       "      <td>Support</td>\n",
       "      <td>NaN</td>\n",
       "      <td>...</td>\n",
       "      <td>01:32</td>\n",
       "      <td>None</td>\n",
       "      <td>5601.0</td>\n",
       "      <td>5448.0</td>\n",
       "      <td>None</td>\n",
       "      <td>10719.0</td>\n",
       "      <td>7851.0</td>\n",
       "      <td>Gold</td>\n",
       "      <td>8.0</td>\n",
       "      <td>6.64</td>\n",
       "    </tr>\n",
       "    <tr>\n",
       "      <th>4</th>\n",
       "      <td>112</td>\n",
       "      <td>1841</td>\n",
       "      <td>1866</td>\n",
       "      <td>25</td>\n",
       "      <td>1900</td>\n",
       "      <td>1891</td>\n",
       "      <td>4.0</td>\n",
       "      <td>3.0</td>\n",
       "      <td>Tank</td>\n",
       "      <td>Support</td>\n",
       "      <td>...</td>\n",
       "      <td>01:27</td>\n",
       "      <td>None</td>\n",
       "      <td>2658.0</td>\n",
       "      <td>5251.0</td>\n",
       "      <td>None</td>\n",
       "      <td>2330.0</td>\n",
       "      <td>6608.0</td>\n",
       "      <td>Silver</td>\n",
       "      <td>5.0</td>\n",
       "      <td>6.96</td>\n",
       "    </tr>\n",
       "  </tbody>\n",
       "</table>\n",
       "<p>5 rows × 32 columns</p>\n",
       "</div>"
      ],
      "text/plain": [
       "   Game #  Start SR  End SR  SR Change Team SR avg Enemy SR avg  Team Stack  \\\n",
       "0     108      1806    1787        -19        1831            P         NaN   \n",
       "1     109      1787    1787          0        1836         1847         NaN   \n",
       "2     110      1787    1812         25        1817         1818         NaN   \n",
       "3     111      1812    1841         29        1827         1839         NaN   \n",
       "4     112      1841    1866         25        1900         1891         4.0   \n",
       "\n",
       "   Enemy Stack   Role 1   Role 2      ...      Obj_time_career  \\\n",
       "0          NaN  Support      NaN      ...                01:32   \n",
       "1          NaN  Offense  Support      ...                01:27   \n",
       "2          NaN     Tank      NaN      ...                01:27   \n",
       "3          NaN  Support      NaN      ...                01:32   \n",
       "4          3.0     Tank  Support      ...                01:27   \n",
       "\n",
       "   Obj_time_medal      Dmg Dmg_career Dmg_medal     Heal  Heal_career  \\\n",
       "0             NaN  10615.0     5435.0       NaN   9711.0       7844.0   \n",
       "1             NaN   5973.0     5246.0       NaN   1958.0       6651.0   \n",
       "2          Bronze   6959.0     5257.0    Silver      0.0       6594.0   \n",
       "3            None   5601.0     5448.0      None  10719.0       7851.0   \n",
       "4            None   2658.0     5251.0      None   2330.0       6608.0   \n",
       "\n",
       "  Heal_medal  Death  Death_career  \n",
       "0        NaN   13.0          6.65  \n",
       "1        NaN    6.0          6.97  \n",
       "2       None    5.0          6.95  \n",
       "3       Gold    8.0          6.64  \n",
       "4     Silver    5.0          6.96  \n",
       "\n",
       "[5 rows x 32 columns]"
      ]
     },
     "execution_count": 257,
     "metadata": {},
     "output_type": "execute_result"
    }
   ],
   "source": [
    "#Collecting data and checking if there is any trouble\n",
    "ow_raw = pd.read_csv(\"season9.csv\")\n",
    "ow_raw.head(5)"
   ]
  },
  {
   "cell_type": "code",
   "execution_count": 258,
   "metadata": {},
   "outputs": [
    {
     "data": {
      "text/plain": [
       "RangeIndex(start=0, stop=207, step=1)"
      ]
     },
     "execution_count": 258,
     "metadata": {},
     "output_type": "execute_result"
    }
   ],
   "source": [
    "#Checking the shape and attributes of the dataset\n",
    "ow_raw.index"
   ]
  },
  {
   "cell_type": "code",
   "execution_count": 259,
   "metadata": {},
   "outputs": [
    {
     "data": {
      "text/plain": [
       "Index(['Game #', 'Start SR', 'End SR', 'SR Change', 'Team SR avg',\n",
       "       'Enemy SR avg', 'Team Stack', 'Enemy Stack', 'Role 1', 'Role 2',\n",
       "       'Result', 'Streak', 'Leaver', 'Map', 'Match Time', 'Elim',\n",
       "       'Elim_career', 'Elim_medal', 'Obj_kills', 'Obj_kills_career',\n",
       "       'Obj_kills_medal', 'Obj_time', 'Obj_time_career', 'Obj_time_medal',\n",
       "       'Dmg', 'Dmg_career', 'Dmg_medal', 'Heal', 'Heal_career', 'Heal_medal',\n",
       "       'Death', 'Death_career'],\n",
       "      dtype='object')"
      ]
     },
     "execution_count": 259,
     "metadata": {},
     "output_type": "execute_result"
    }
   ],
   "source": [
    "ow_raw.columns"
   ]
  },
  {
   "cell_type": "code",
   "execution_count": 260,
   "metadata": {},
   "outputs": [
    {
     "data": {
      "text/plain": [
       "Game #                0\n",
       "Start SR              0\n",
       "End SR                0\n",
       "SR Change             0\n",
       "Team SR avg           0\n",
       "Enemy SR avg          0\n",
       "Team Stack            4\n",
       "Enemy Stack           4\n",
       "Role 1                0\n",
       "Role 2              167\n",
       "Result                0\n",
       "Streak                0\n",
       "Leaver                0\n",
       "Map                   0\n",
       "Match Time            2\n",
       "Elim                  2\n",
       "Elim_career           2\n",
       "Elim_medal            2\n",
       "Obj_kills             2\n",
       "Obj_kills_career      2\n",
       "Obj_kills_medal       3\n",
       "Obj_time              2\n",
       "Obj_time_career       2\n",
       "Obj_time_medal        3\n",
       "Dmg                   2\n",
       "Dmg_career            2\n",
       "Dmg_medal             3\n",
       "Heal                  1\n",
       "Heal_career           4\n",
       "Heal_medal            3\n",
       "Death                 2\n",
       "Death_career          2\n",
       "dtype: int64"
      ]
     },
     "execution_count": 260,
     "metadata": {},
     "output_type": "execute_result"
    }
   ],
   "source": [
    "#Checking the sum of null values in attributes\n",
    "ow_raw.isnull().sum()"
   ]
  },
  {
   "cell_type": "code",
   "execution_count": 261,
   "metadata": {},
   "outputs": [],
   "source": [
    "#Backup of raw data if everything goes wrong\n",
    "ow_bk = ow_raw"
   ]
  },
  {
   "cell_type": "code",
   "execution_count": 262,
   "metadata": {},
   "outputs": [],
   "source": [
    "#Deleting datapoints which lack necessary data\n",
    "ow_denull = ow_raw[ow_raw['Team Stack'].isnull() == False]\n",
    "ow_denull = ow_denull[ow_denull['Heal_career'].isnull() == False]"
   ]
  },
  {
   "cell_type": "code",
   "execution_count": 263,
   "metadata": {},
   "outputs": [
    {
     "data": {
      "text/plain": [
       "Game #                0\n",
       "Start SR              0\n",
       "End SR                0\n",
       "SR Change             0\n",
       "Team SR avg           0\n",
       "Enemy SR avg          0\n",
       "Team Stack            0\n",
       "Enemy Stack           0\n",
       "Role 1                0\n",
       "Role 2              160\n",
       "Result                0\n",
       "Streak                0\n",
       "Leaver                0\n",
       "Map                   0\n",
       "Match Time            0\n",
       "Elim                  0\n",
       "Elim_career           0\n",
       "Elim_medal            0\n",
       "Obj_kills             0\n",
       "Obj_kills_career      0\n",
       "Obj_kills_medal       0\n",
       "Obj_time              0\n",
       "Obj_time_career       0\n",
       "Obj_time_medal        0\n",
       "Dmg                   0\n",
       "Dmg_career            0\n",
       "Dmg_medal             0\n",
       "Heal                  0\n",
       "Heal_career           0\n",
       "Heal_medal            0\n",
       "Death                 0\n",
       "Death_career          0\n",
       "dtype: int64"
      ]
     },
     "execution_count": 263,
     "metadata": {},
     "output_type": "execute_result"
    }
   ],
   "source": [
    "#Role2 being none has no effect on the game.\n",
    "ow_denull.isnull().sum()"
   ]
  },
  {
   "cell_type": "code",
   "execution_count": 264,
   "metadata": {},
   "outputs": [
    {
     "data": {
      "text/plain": [
       "(199, 32)"
      ]
     },
     "execution_count": 264,
     "metadata": {},
     "output_type": "execute_result"
    }
   ],
   "source": [
    "#Updated shape of the dataset\n",
    "ow_denull.shape"
   ]
  },
  {
   "cell_type": "code",
   "execution_count": 265,
   "metadata": {},
   "outputs": [
    {
     "data": {
      "text/plain": [
       "2309.381909547739"
      ]
     },
     "execution_count": 265,
     "metadata": {},
     "output_type": "execute_result"
    }
   ],
   "source": [
    "#Measuring the mean of the SR. \n",
    "#SR: Points used in the game which denote the player's rank according to his/her skills. Higher is better.\n",
    "ow_denull['End SR'].mean()"
   ]
  },
  {
   "cell_type": "code",
   "execution_count": 266,
   "metadata": {},
   "outputs": [],
   "source": [
    "fig = ow_denull.sort_values('SR Change', ascending=False)"
   ]
  },
  {
   "cell_type": "code",
   "execution_count": 267,
   "metadata": {},
   "outputs": [
    {
     "data": {
      "text/plain": [
       "<matplotlib.axes._subplots.AxesSubplot at 0x22dac3d5588>"
      ]
     },
     "execution_count": 267,
     "metadata": {},
     "output_type": "execute_result"
    },
    {
     "data": {
      "image/png": "[encoded data removed]",
      "text/plain": [
       "<Figure size 432x288 with 1 Axes>"
      ]
     },
     "metadata": {
      "needs_background": "light"
     },
     "output_type": "display_data"
    }
   ],
   "source": [
    "fig.groupby('SR Change').size().plot(kind='bar')"
   ]
  },
  {
   "cell_type": "code",
   "execution_count": 268,
   "metadata": {},
   "outputs": [
    {
     "data": {
      "text/plain": [
       "<matplotlib.axes._subplots.AxesSubplot at 0x22dac602518>"
      ]
     },
     "execution_count": 268,
     "metadata": {},
     "output_type": "execute_result"
    },
    {
     "data": {
      "image/png": "[encoded data removed]",
      "text/plain": [
       "<Figure size 432x288 with 1 Axes>"
      ]
     },
     "metadata": {
      "needs_background": "light"
     },
     "output_type": "display_data"
    }
   ],
   "source": [
    "fig.plot.scatter(x='Elim', y='Dmg')"
   ]
  },
  {
   "cell_type": "code",
   "execution_count": 249,
   "metadata": {},
   "outputs": [],
   "source": []
  },
  {
   "cell_type": "code",
   "execution_count": 255,
   "metadata": {},
   "outputs": [
    {
     "name": "stdout",
     "output_type": "stream",
     "text": [
      "hi\n"
     ]
    }
   ],
   "source": []
  },
  {
   "cell_type": "code",
   "execution_count": null,
   "metadata": {},
   "outputs": [],
   "source": []
  }
 ],
 "metadata": {
  "kernelspec": {
   "display_name": "Python 3",
   "language": "python",
   "name": "python3"
  },
  "language_info": {
   "codemirror_mode": {
    "name": "ipython",
    "version": 3
   },
   "file_extension": ".py",
   "mimetype": "text/x-python",
   "name": "python",
   "nbconvert_exporter": "python",
   "pygments_lexer": "ipython3",
   "version": "3.6.7"
  }
 },
 "nbformat": 4,
 "nbformat_minor": 2
}
