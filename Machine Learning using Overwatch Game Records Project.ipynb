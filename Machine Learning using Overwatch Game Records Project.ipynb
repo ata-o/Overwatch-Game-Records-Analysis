{
 "cells": [
  {
   "cell_type": "markdown",
   "metadata": {},
   "source": [
    "# Overwatch Game Records Analysis\n",
    "Team Name: 3edgy5u\n",
    "\n",
    "Team Members:\n",
    "\n",
    "#### Berkay Çınar - 201511013\n",
    "\n",
    "#### Celal Şahin - 201411056\n",
    "\n",
    "#### Onur Ata Sarıtaş - 201511049\n",
    "\n",
    "# Explanation of Project and Terms\n",
    "\n",
    "We will focus on analyzing the overwatch game records from https://www.kaggle.com/simonho87/overwatch-ranked-data#season9.csv based on season 9 of the game. We collected raw csv data from kaggle.\n",
    "We will analyze various statistics from matches to show that every stat could effect the outcome of the match. First, we will import the necessary libraries. Then, we will preprocess the data and visualize it.\n",
    "\n",
    "## Some attributes are explained below:\n",
    "\n",
    "####  StartSR, EndSR, etc. -- SR:\n",
    "Points used in the game which denote the player's rank according to his/her skills. Higher is better.\n",
    "\n",
    "#### TeamStack, EnemyStack:\n",
    "Stack means that how many acquianted players enters the match together. Example, if TeamStack is 2, then you and one player you know enters together to the match.\n",
    "\n",
    "#### Role:\n",
    "Character you are playing\n",
    "\n",
    "#### Dmg:\n",
    "How much damage you have been dealt"
   ]
  },
  {
   "cell_type": "markdown",
   "metadata": {},
   "source": [
    "## 1. Importing Necessary Libraries"
   ]
  },
  {
   "cell_type": "code",
   "execution_count": 10,
   "metadata": {},
   "outputs": [],
   "source": [
    "import pandas as pd\n",
    "from pandas import DataFrame, Series\n",
    "import matplotlib.pyplot as plt\n",
    "%matplotlib inline\n",
    "import seaborn as sns"
   ]
  },
  {
   "cell_type": "markdown",
   "metadata": {},
   "source": [
    "## 2. Reading File"
   ]
  },
  {
   "cell_type": "markdown",
   "metadata": {},
   "source": [
    "Making sure that dataset is working"
   ]
  },
  {
   "cell_type": "code",
   "execution_count": 11,
   "metadata": {
    "scrolled": true
   },
   "outputs": [
    {
     "data": {
      "text/html": [
       "<div>\n",
       "<style scoped>\n",
       "    .dataframe tbody tr th:only-of-type {\n",
       "        vertical-align: middle;\n",
       "    }\n",
       "\n",
       "    .dataframe tbody tr th {\n",
       "        vertical-align: top;\n",
       "    }\n",
       "\n",
       "    .dataframe thead th {\n",
       "        text-align: right;\n",
       "    }\n",
       "</style>\n",
       "<table border=\"1\" class=\"dataframe\">\n",
       "  <thead>\n",
       "    <tr style=\"text-align: right;\">\n",
       "      <th></th>\n",
       "      <th>Game #</th>\n",
       "      <th>Start SR</th>\n",
       "      <th>End SR</th>\n",
       "      <th>SR Change</th>\n",
       "      <th>Team SR avg</th>\n",
       "      <th>Enemy SR avg</th>\n",
       "      <th>Team Stack</th>\n",
       "      <th>Enemy Stack</th>\n",
       "      <th>Role 1</th>\n",
       "      <th>Role 2</th>\n",
       "      <th>...</th>\n",
       "      <th>Obj_time_career</th>\n",
       "      <th>Obj_time_medal</th>\n",
       "      <th>Dmg</th>\n",
       "      <th>Dmg_career</th>\n",
       "      <th>Dmg_medal</th>\n",
       "      <th>Heal</th>\n",
       "      <th>Heal_career</th>\n",
       "      <th>Heal_medal</th>\n",
       "      <th>Death</th>\n",
       "      <th>Death_career</th>\n",
       "    </tr>\n",
       "  </thead>\n",
       "  <tbody>\n",
       "    <tr>\n",
       "      <th>0</th>\n",
       "      <td>108</td>\n",
       "      <td>1806</td>\n",
       "      <td>1787</td>\n",
       "      <td>-19</td>\n",
       "      <td>1831</td>\n",
       "      <td>P</td>\n",
       "      <td>NaN</td>\n",
       "      <td>NaN</td>\n",
       "      <td>Support</td>\n",
       "      <td>NaN</td>\n",
       "      <td>...</td>\n",
       "      <td>01:32</td>\n",
       "      <td>NaN</td>\n",
       "      <td>10615.0</td>\n",
       "      <td>5435.0</td>\n",
       "      <td>NaN</td>\n",
       "      <td>9711.0</td>\n",
       "      <td>7844.0</td>\n",
       "      <td>NaN</td>\n",
       "      <td>13.0</td>\n",
       "      <td>6.65</td>\n",
       "    </tr>\n",
       "    <tr>\n",
       "      <th>1</th>\n",
       "      <td>109</td>\n",
       "      <td>1787</td>\n",
       "      <td>1787</td>\n",
       "      <td>0</td>\n",
       "      <td>1836</td>\n",
       "      <td>1847</td>\n",
       "      <td>NaN</td>\n",
       "      <td>NaN</td>\n",
       "      <td>Offense</td>\n",
       "      <td>Support</td>\n",
       "      <td>...</td>\n",
       "      <td>01:27</td>\n",
       "      <td>NaN</td>\n",
       "      <td>5973.0</td>\n",
       "      <td>5246.0</td>\n",
       "      <td>NaN</td>\n",
       "      <td>1958.0</td>\n",
       "      <td>6651.0</td>\n",
       "      <td>NaN</td>\n",
       "      <td>6.0</td>\n",
       "      <td>6.97</td>\n",
       "    </tr>\n",
       "    <tr>\n",
       "      <th>2</th>\n",
       "      <td>110</td>\n",
       "      <td>1787</td>\n",
       "      <td>1812</td>\n",
       "      <td>25</td>\n",
       "      <td>1817</td>\n",
       "      <td>1818</td>\n",
       "      <td>NaN</td>\n",
       "      <td>NaN</td>\n",
       "      <td>Tank</td>\n",
       "      <td>NaN</td>\n",
       "      <td>...</td>\n",
       "      <td>01:27</td>\n",
       "      <td>Bronze</td>\n",
       "      <td>6959.0</td>\n",
       "      <td>5257.0</td>\n",
       "      <td>Silver</td>\n",
       "      <td>0.0</td>\n",
       "      <td>6594.0</td>\n",
       "      <td>None</td>\n",
       "      <td>5.0</td>\n",
       "      <td>6.95</td>\n",
       "    </tr>\n",
       "    <tr>\n",
       "      <th>3</th>\n",
       "      <td>111</td>\n",
       "      <td>1812</td>\n",
       "      <td>1841</td>\n",
       "      <td>29</td>\n",
       "      <td>1827</td>\n",
       "      <td>1839</td>\n",
       "      <td>NaN</td>\n",
       "      <td>NaN</td>\n",
       "      <td>Support</td>\n",
       "      <td>NaN</td>\n",
       "      <td>...</td>\n",
       "      <td>01:32</td>\n",
       "      <td>None</td>\n",
       "      <td>5601.0</td>\n",
       "      <td>5448.0</td>\n",
       "      <td>None</td>\n",
       "      <td>10719.0</td>\n",
       "      <td>7851.0</td>\n",
       "      <td>Gold</td>\n",
       "      <td>8.0</td>\n",
       "      <td>6.64</td>\n",
       "    </tr>\n",
       "    <tr>\n",
       "      <th>4</th>\n",
       "      <td>112</td>\n",
       "      <td>1841</td>\n",
       "      <td>1866</td>\n",
       "      <td>25</td>\n",
       "      <td>1900</td>\n",
       "      <td>1891</td>\n",
       "      <td>4.0</td>\n",
       "      <td>3.0</td>\n",
       "      <td>Tank</td>\n",
       "      <td>Support</td>\n",
       "      <td>...</td>\n",
       "      <td>01:27</td>\n",
       "      <td>None</td>\n",
       "      <td>2658.0</td>\n",
       "      <td>5251.0</td>\n",
       "      <td>None</td>\n",
       "      <td>2330.0</td>\n",
       "      <td>6608.0</td>\n",
       "      <td>Silver</td>\n",
       "      <td>5.0</td>\n",
       "      <td>6.96</td>\n",
       "    </tr>\n",
       "  </tbody>\n",
       "</table>\n",
       "<p>5 rows × 32 columns</p>\n",
       "</div>"
      ],
      "text/plain": [
       "   Game #  Start SR  End SR  SR Change Team SR avg Enemy SR avg  Team Stack  \\\n",
       "0     108      1806    1787        -19        1831            P         NaN   \n",
       "1     109      1787    1787          0        1836         1847         NaN   \n",
       "2     110      1787    1812         25        1817         1818         NaN   \n",
       "3     111      1812    1841         29        1827         1839         NaN   \n",
       "4     112      1841    1866         25        1900         1891         4.0   \n",
       "\n",
       "   Enemy Stack   Role 1   Role 2      ...      Obj_time_career  \\\n",
       "0          NaN  Support      NaN      ...                01:32   \n",
       "1          NaN  Offense  Support      ...                01:27   \n",
       "2          NaN     Tank      NaN      ...                01:27   \n",
       "3          NaN  Support      NaN      ...                01:32   \n",
       "4          3.0     Tank  Support      ...                01:27   \n",
       "\n",
       "   Obj_time_medal      Dmg Dmg_career Dmg_medal     Heal  Heal_career  \\\n",
       "0             NaN  10615.0     5435.0       NaN   9711.0       7844.0   \n",
       "1             NaN   5973.0     5246.0       NaN   1958.0       6651.0   \n",
       "2          Bronze   6959.0     5257.0    Silver      0.0       6594.0   \n",
       "3            None   5601.0     5448.0      None  10719.0       7851.0   \n",
       "4            None   2658.0     5251.0      None   2330.0       6608.0   \n",
       "\n",
       "  Heal_medal  Death  Death_career  \n",
       "0        NaN   13.0          6.65  \n",
       "1        NaN    6.0          6.97  \n",
       "2       None    5.0          6.95  \n",
       "3       Gold    8.0          6.64  \n",
       "4     Silver    5.0          6.96  \n",
       "\n",
       "[5 rows x 32 columns]"
      ]
     },
     "execution_count": 11,
     "metadata": {},
     "output_type": "execute_result"
    }
   ],
   "source": [
    "ow_raw = pd.read_csv(\"season9.csv\")\n",
    "ow_raw.head(5)"
   ]
  },
  {
   "cell_type": "markdown",
   "metadata": {},
   "source": [
    "Datatypes of the attributes"
   ]
  },
  {
   "cell_type": "code",
   "execution_count": 12,
   "metadata": {},
   "outputs": [
    {
     "data": {
      "text/plain": [
       "Game #                int64\n",
       "Start SR              int64\n",
       "End SR                int64\n",
       "SR Change             int64\n",
       "Team SR avg          object\n",
       "Enemy SR avg         object\n",
       "Team Stack          float64\n",
       "Enemy Stack         float64\n",
       "Role 1               object\n",
       "Role 2               object\n",
       "Result               object\n",
       "Streak                int64\n",
       "Leaver               object\n",
       "Map                  object\n",
       "Match Time           object\n",
       "Elim                float64\n",
       "Elim_career         float64\n",
       "Elim_medal           object\n",
       "Obj_kills           float64\n",
       "Obj_kills_career    float64\n",
       "Obj_kills_medal      object\n",
       "Obj_time             object\n",
       "Obj_time_career      object\n",
       "Obj_time_medal       object\n",
       "Dmg                 float64\n",
       "Dmg_career          float64\n",
       "Dmg_medal            object\n",
       "Heal                float64\n",
       "Heal_career         float64\n",
       "Heal_medal           object\n",
       "Death               float64\n",
       "Death_career        float64\n",
       "dtype: object"
      ]
     },
     "execution_count": 12,
     "metadata": {},
     "output_type": "execute_result"
    }
   ],
   "source": [
    "ow_raw.dtypes"
   ]
  },
  {
   "cell_type": "markdown",
   "metadata": {},
   "source": [
    "## 3. Preprocessing the Data (Cleaning)"
   ]
  },
  {
   "cell_type": "markdown",
   "metadata": {},
   "source": [
    "Checking the shape and attributes of the dataset"
   ]
  },
  {
   "cell_type": "code",
   "execution_count": 13,
   "metadata": {},
   "outputs": [
    {
     "data": {
      "text/plain": [
       "RangeIndex(start=0, stop=207, step=1)"
      ]
     },
     "execution_count": 13,
     "metadata": {},
     "output_type": "execute_result"
    }
   ],
   "source": [
    "ow_raw.index"
   ]
  },
  {
   "cell_type": "code",
   "execution_count": 14,
   "metadata": {},
   "outputs": [
    {
     "data": {
      "text/plain": [
       "(207, 32)"
      ]
     },
     "execution_count": 14,
     "metadata": {},
     "output_type": "execute_result"
    }
   ],
   "source": [
    "ow_raw.shape"
   ]
  },
  {
   "cell_type": "markdown",
   "metadata": {},
   "source": [
    "Checking the sum of null values in attributes"
   ]
  },
  {
   "cell_type": "code",
   "execution_count": 15,
   "metadata": {
    "scrolled": true
   },
   "outputs": [
    {
     "data": {
      "text/plain": [
       "Game #                0\n",
       "Start SR              0\n",
       "End SR                0\n",
       "SR Change             0\n",
       "Team SR avg           0\n",
       "Enemy SR avg          0\n",
       "Team Stack            4\n",
       "Enemy Stack           4\n",
       "Role 1                0\n",
       "Role 2              167\n",
       "Result                0\n",
       "Streak                0\n",
       "Leaver                0\n",
       "Map                   0\n",
       "Match Time            2\n",
       "Elim                  2\n",
       "Elim_career           2\n",
       "Elim_medal            2\n",
       "Obj_kills             2\n",
       "Obj_kills_career      2\n",
       "Obj_kills_medal       3\n",
       "Obj_time              2\n",
       "Obj_time_career       2\n",
       "Obj_time_medal        3\n",
       "Dmg                   2\n",
       "Dmg_career            2\n",
       "Dmg_medal             3\n",
       "Heal                  1\n",
       "Heal_career           4\n",
       "Heal_medal            3\n",
       "Death                 2\n",
       "Death_career          2\n",
       "dtype: int64"
      ]
     },
     "execution_count": 15,
     "metadata": {},
     "output_type": "execute_result"
    }
   ],
   "source": [
    "ow_raw.isnull().sum()"
   ]
  },
  {
   "cell_type": "markdown",
   "metadata": {},
   "source": [
    "Backup of raw data if everything goes wrong"
   ]
  },
  {
   "cell_type": "code",
   "execution_count": 16,
   "metadata": {},
   "outputs": [],
   "source": [
    "ow_bk = ow_raw"
   ]
  },
  {
   "cell_type": "markdown",
   "metadata": {},
   "source": [
    "Deleting datapoints which lack necessary data. Since Team Stack and Heal career attributes are likely not null in other datapoints, deleting null values in these attributes will help dealing with null values in all attributes in this data. "
   ]
  },
  {
   "cell_type": "code",
   "execution_count": 17,
   "metadata": {},
   "outputs": [],
   "source": [
    "ow_denull = ow_raw[ow_raw['Team Stack'].isnull() == False]\n",
    "ow_denull = ow_denull[ow_denull['Heal_career'].isnull() == False]"
   ]
  },
  {
   "cell_type": "markdown",
   "metadata": {},
   "source": [
    "Role2 being none has no effect on the game. Role 2 is the secondary role of the played character in one match, therefore it's not a necessary attribute in terms of analysing different statistics about game dynamics."
   ]
  },
  {
   "cell_type": "code",
   "execution_count": 18,
   "metadata": {},
   "outputs": [
    {
     "data": {
      "text/plain": [
       "Game #                0\n",
       "Start SR              0\n",
       "End SR                0\n",
       "SR Change             0\n",
       "Team SR avg           0\n",
       "Enemy SR avg          0\n",
       "Team Stack            0\n",
       "Enemy Stack           0\n",
       "Role 1                0\n",
       "Role 2              160\n",
       "Result                0\n",
       "Streak                0\n",
       "Leaver                0\n",
       "Map                   0\n",
       "Match Time            0\n",
       "Elim                  0\n",
       "Elim_career           0\n",
       "Elim_medal            0\n",
       "Obj_kills             0\n",
       "Obj_kills_career      0\n",
       "Obj_kills_medal       0\n",
       "Obj_time              0\n",
       "Obj_time_career       0\n",
       "Obj_time_medal        0\n",
       "Dmg                   0\n",
       "Dmg_career            0\n",
       "Dmg_medal             0\n",
       "Heal                  0\n",
       "Heal_career           0\n",
       "Heal_medal            0\n",
       "Death                 0\n",
       "Death_career          0\n",
       "dtype: int64"
      ]
     },
     "execution_count": 18,
     "metadata": {},
     "output_type": "execute_result"
    }
   ],
   "source": [
    "ow_denull.isnull().sum()"
   ]
  },
  {
   "cell_type": "markdown",
   "metadata": {},
   "source": [
    "Updated shape of the dataset"
   ]
  },
  {
   "cell_type": "code",
   "execution_count": 60,
   "metadata": {},
   "outputs": [
    {
     "data": {
      "text/plain": [
       "(199, 32)"
      ]
     },
     "execution_count": 60,
     "metadata": {},
     "output_type": "execute_result"
    }
   ],
   "source": [
    "ow_denull.shape"
   ]
  },
  {
   "cell_type": "markdown",
   "metadata": {},
   "source": [
    "Overall description of the dataset"
   ]
  },
  {
   "cell_type": "code",
   "execution_count": 61,
   "metadata": {},
   "outputs": [
    {
     "data": {
      "text/html": [
       "<div>\n",
       "<style scoped>\n",
       "    .dataframe tbody tr th:only-of-type {\n",
       "        vertical-align: middle;\n",
       "    }\n",
       "\n",
       "    .dataframe tbody tr th {\n",
       "        vertical-align: top;\n",
       "    }\n",
       "\n",
       "    .dataframe thead th {\n",
       "        text-align: right;\n",
       "    }\n",
       "</style>\n",
       "<table border=\"1\" class=\"dataframe\">\n",
       "  <thead>\n",
       "    <tr style=\"text-align: right;\">\n",
       "      <th></th>\n",
       "      <th>Game #</th>\n",
       "      <th>Start SR</th>\n",
       "      <th>End SR</th>\n",
       "      <th>SR Change</th>\n",
       "      <th>Team Stack</th>\n",
       "      <th>Enemy Stack</th>\n",
       "      <th>Streak</th>\n",
       "      <th>Elim</th>\n",
       "      <th>Elim_career</th>\n",
       "      <th>Obj_kills</th>\n",
       "      <th>Obj_kills_career</th>\n",
       "      <th>Dmg</th>\n",
       "      <th>Dmg_career</th>\n",
       "      <th>Heal</th>\n",
       "      <th>Heal_career</th>\n",
       "      <th>Death</th>\n",
       "      <th>Death_career</th>\n",
       "    </tr>\n",
       "  </thead>\n",
       "  <tbody>\n",
       "    <tr>\n",
       "      <th>count</th>\n",
       "      <td>199.000000</td>\n",
       "      <td>199.000000</td>\n",
       "      <td>199.000000</td>\n",
       "      <td>199.000000</td>\n",
       "      <td>199.000000</td>\n",
       "      <td>199.000000</td>\n",
       "      <td>199.000000</td>\n",
       "      <td>199.000000</td>\n",
       "      <td>199.000000</td>\n",
       "      <td>199.000000</td>\n",
       "      <td>199.000000</td>\n",
       "      <td>199.000000</td>\n",
       "      <td>199.000000</td>\n",
       "      <td>199.000000</td>\n",
       "      <td>199.000000</td>\n",
       "      <td>199.000000</td>\n",
       "      <td>199.000000</td>\n",
       "    </tr>\n",
       "    <tr>\n",
       "      <th>mean</th>\n",
       "      <td>213.160804</td>\n",
       "      <td>2306.432161</td>\n",
       "      <td>2309.381910</td>\n",
       "      <td>2.949749</td>\n",
       "      <td>1.939698</td>\n",
       "      <td>2.025126</td>\n",
       "      <td>0.452261</td>\n",
       "      <td>20.025126</td>\n",
       "      <td>18.431256</td>\n",
       "      <td>12.075377</td>\n",
       "      <td>10.950402</td>\n",
       "      <td>5911.236181</td>\n",
       "      <td>5000.348191</td>\n",
       "      <td>7160.160804</td>\n",
       "      <td>6404.832211</td>\n",
       "      <td>9.231156</td>\n",
       "      <td>7.069095</td>\n",
       "    </tr>\n",
       "    <tr>\n",
       "      <th>std</th>\n",
       "      <td>58.077832</td>\n",
       "      <td>119.426932</td>\n",
       "      <td>115.773354</td>\n",
       "      <td>23.556240</td>\n",
       "      <td>0.935486</td>\n",
       "      <td>0.961045</td>\n",
       "      <td>2.400859</td>\n",
       "      <td>11.083447</td>\n",
       "      <td>2.698562</td>\n",
       "      <td>7.522313</td>\n",
       "      <td>1.587695</td>\n",
       "      <td>2949.720802</td>\n",
       "      <td>632.724182</td>\n",
       "      <td>5722.786471</td>\n",
       "      <td>1873.091622</td>\n",
       "      <td>4.043555</td>\n",
       "      <td>0.442251</td>\n",
       "    </tr>\n",
       "    <tr>\n",
       "      <th>min</th>\n",
       "      <td>112.000000</td>\n",
       "      <td>1841.000000</td>\n",
       "      <td>1866.000000</td>\n",
       "      <td>-29.000000</td>\n",
       "      <td>1.000000</td>\n",
       "      <td>1.000000</td>\n",
       "      <td>-4.000000</td>\n",
       "      <td>1.000000</td>\n",
       "      <td>0.570000</td>\n",
       "      <td>0.000000</td>\n",
       "      <td>0.140000</td>\n",
       "      <td>180.000000</td>\n",
       "      <td>85.290000</td>\n",
       "      <td>0.000000</td>\n",
       "      <td>0.000000</td>\n",
       "      <td>0.000000</td>\n",
       "      <td>5.720000</td>\n",
       "    </tr>\n",
       "    <tr>\n",
       "      <th>25%</th>\n",
       "      <td>163.500000</td>\n",
       "      <td>2245.000000</td>\n",
       "      <td>2245.500000</td>\n",
       "      <td>-22.000000</td>\n",
       "      <td>1.000000</td>\n",
       "      <td>1.000000</td>\n",
       "      <td>-1.000000</td>\n",
       "      <td>12.000000</td>\n",
       "      <td>17.570000</td>\n",
       "      <td>6.000000</td>\n",
       "      <td>10.310000</td>\n",
       "      <td>3763.500000</td>\n",
       "      <td>4919.500000</td>\n",
       "      <td>905.000000</td>\n",
       "      <td>6071.500000</td>\n",
       "      <td>7.000000</td>\n",
       "      <td>6.945000</td>\n",
       "    </tr>\n",
       "    <tr>\n",
       "      <th>50%</th>\n",
       "      <td>213.000000</td>\n",
       "      <td>2313.000000</td>\n",
       "      <td>2316.000000</td>\n",
       "      <td>20.000000</td>\n",
       "      <td>2.000000</td>\n",
       "      <td>2.000000</td>\n",
       "      <td>1.000000</td>\n",
       "      <td>20.000000</td>\n",
       "      <td>18.390000</td>\n",
       "      <td>11.000000</td>\n",
       "      <td>10.800000</td>\n",
       "      <td>5795.000000</td>\n",
       "      <td>5075.000000</td>\n",
       "      <td>7255.000000</td>\n",
       "      <td>6244.000000</td>\n",
       "      <td>9.000000</td>\n",
       "      <td>7.060000</td>\n",
       "    </tr>\n",
       "    <tr>\n",
       "      <th>75%</th>\n",
       "      <td>262.500000</td>\n",
       "      <td>2392.500000</td>\n",
       "      <td>2395.500000</td>\n",
       "      <td>25.000000</td>\n",
       "      <td>2.000000</td>\n",
       "      <td>2.000000</td>\n",
       "      <td>2.000000</td>\n",
       "      <td>28.000000</td>\n",
       "      <td>19.610000</td>\n",
       "      <td>17.000000</td>\n",
       "      <td>11.520000</td>\n",
       "      <td>7516.000000</td>\n",
       "      <td>5200.000000</td>\n",
       "      <td>10955.500000</td>\n",
       "      <td>7934.500000</td>\n",
       "      <td>12.000000</td>\n",
       "      <td>7.200000</td>\n",
       "    </tr>\n",
       "    <tr>\n",
       "      <th>max</th>\n",
       "      <td>314.000000</td>\n",
       "      <td>2503.000000</td>\n",
       "      <td>2503.000000</td>\n",
       "      <td>35.000000</td>\n",
       "      <td>5.000000</td>\n",
       "      <td>6.000000</td>\n",
       "      <td>9.000000</td>\n",
       "      <td>60.000000</td>\n",
       "      <td>22.350000</td>\n",
       "      <td>38.000000</td>\n",
       "      <td>13.310000</td>\n",
       "      <td>16860.000000</td>\n",
       "      <td>8099.000000</td>\n",
       "      <td>21158.000000</td>\n",
       "      <td>9690.000000</td>\n",
       "      <td>23.000000</td>\n",
       "      <td>9.410000</td>\n",
       "    </tr>\n",
       "  </tbody>\n",
       "</table>\n",
       "</div>"
      ],
      "text/plain": [
       "           Game #     Start SR       End SR   SR Change  Team Stack  \\\n",
       "count  199.000000   199.000000   199.000000  199.000000  199.000000   \n",
       "mean   213.160804  2306.432161  2309.381910    2.949749    1.939698   \n",
       "std     58.077832   119.426932   115.773354   23.556240    0.935486   \n",
       "min    112.000000  1841.000000  1866.000000  -29.000000    1.000000   \n",
       "25%    163.500000  2245.000000  2245.500000  -22.000000    1.000000   \n",
       "50%    213.000000  2313.000000  2316.000000   20.000000    2.000000   \n",
       "75%    262.500000  2392.500000  2395.500000   25.000000    2.000000   \n",
       "max    314.000000  2503.000000  2503.000000   35.000000    5.000000   \n",
       "\n",
       "       Enemy Stack      Streak        Elim  Elim_career   Obj_kills  \\\n",
       "count   199.000000  199.000000  199.000000   199.000000  199.000000   \n",
       "mean      2.025126    0.452261   20.025126    18.431256   12.075377   \n",
       "std       0.961045    2.400859   11.083447     2.698562    7.522313   \n",
       "min       1.000000   -4.000000    1.000000     0.570000    0.000000   \n",
       "25%       1.000000   -1.000000   12.000000    17.570000    6.000000   \n",
       "50%       2.000000    1.000000   20.000000    18.390000   11.000000   \n",
       "75%       2.000000    2.000000   28.000000    19.610000   17.000000   \n",
       "max       6.000000    9.000000   60.000000    22.350000   38.000000   \n",
       "\n",
       "       Obj_kills_career           Dmg   Dmg_career          Heal  Heal_career  \\\n",
       "count        199.000000    199.000000   199.000000    199.000000   199.000000   \n",
       "mean          10.950402   5911.236181  5000.348191   7160.160804  6404.832211   \n",
       "std            1.587695   2949.720802   632.724182   5722.786471  1873.091622   \n",
       "min            0.140000    180.000000    85.290000      0.000000     0.000000   \n",
       "25%           10.310000   3763.500000  4919.500000    905.000000  6071.500000   \n",
       "50%           10.800000   5795.000000  5075.000000   7255.000000  6244.000000   \n",
       "75%           11.520000   7516.000000  5200.000000  10955.500000  7934.500000   \n",
       "max           13.310000  16860.000000  8099.000000  21158.000000  9690.000000   \n",
       "\n",
       "            Death  Death_career  \n",
       "count  199.000000    199.000000  \n",
       "mean     9.231156      7.069095  \n",
       "std      4.043555      0.442251  \n",
       "min      0.000000      5.720000  \n",
       "25%      7.000000      6.945000  \n",
       "50%      9.000000      7.060000  \n",
       "75%     12.000000      7.200000  \n",
       "max     23.000000      9.410000  "
      ]
     },
     "execution_count": 61,
     "metadata": {},
     "output_type": "execute_result"
    }
   ],
   "source": [
    "ow_denull.describe()"
   ]
  },
  {
   "cell_type": "markdown",
   "metadata": {},
   "source": [
    "Replacing : with a . in terms of use the values in plots and such. This codeblock helps us converting these values to float numbers."
   ]
  },
  {
   "cell_type": "code",
   "execution_count": 62,
   "metadata": {},
   "outputs": [],
   "source": [
    "ow_denull = ow_denull[ow_denull['Team SR avg'] != 'P']\n",
    "ow_denull = ow_denull[ow_denull['Enemy SR avg'] != 'P']\n",
    "ow_denull['Match Time'] = ow_denull['Match Time'].str.replace(':', '.').astype(float)\n",
    "ow_denull['Team SR avg'] = ow_denull['Team SR avg'].astype(float)\n",
    "ow_denull['Enemy SR avg'] = ow_denull['Enemy SR avg'].astype(float)"
   ]
  },
  {
   "cell_type": "markdown",
   "metadata": {},
   "source": [
    "Here's the length of last 20 games played."
   ]
  },
  {
   "cell_type": "code",
   "execution_count": 20,
   "metadata": {},
   "outputs": [
    {
     "data": {
      "text/plain": [
       "187    11:59\n",
       "188    10:07\n",
       "189    13:45\n",
       "190    07:21\n",
       "191    18:34\n",
       "192    05:33\n",
       "193    05:12\n",
       "194    13:03\n",
       "195    05:37\n",
       "196    09:34\n",
       "197    17:01\n",
       "198    10:46\n",
       "199    12:09\n",
       "200    12:16\n",
       "201    15:20\n",
       "202    10:03\n",
       "203    16:46\n",
       "204    16:39\n",
       "205    05:12\n",
       "206    08:31\n",
       "Name: Match Time, dtype: object"
      ]
     },
     "execution_count": 20,
     "metadata": {},
     "output_type": "execute_result"
    }
   ],
   "source": [
    "ow_denull['Match Time'].tail(20)"
   ]
  },
  {
   "cell_type": "markdown",
   "metadata": {},
   "source": [
    "## 4. Statistics"
   ]
  },
  {
   "cell_type": "markdown",
   "metadata": {},
   "source": [
    "Bringing the Games Won by the Player"
   ]
  },
  {
   "cell_type": "code",
   "execution_count": 65,
   "metadata": {},
   "outputs": [
    {
     "data": {
      "text/html": [
       "<div>\n",
       "<style scoped>\n",
       "    .dataframe tbody tr th:only-of-type {\n",
       "        vertical-align: middle;\n",
       "    }\n",
       "\n",
       "    .dataframe tbody tr th {\n",
       "        vertical-align: top;\n",
       "    }\n",
       "\n",
       "    .dataframe thead th {\n",
       "        text-align: right;\n",
       "    }\n",
       "</style>\n",
       "<table border=\"1\" class=\"dataframe\">\n",
       "  <thead>\n",
       "    <tr style=\"text-align: right;\">\n",
       "      <th></th>\n",
       "      <th>Game #</th>\n",
       "      <th>Start SR</th>\n",
       "      <th>End SR</th>\n",
       "      <th>SR Change</th>\n",
       "      <th>Team SR avg</th>\n",
       "      <th>Enemy SR avg</th>\n",
       "      <th>Team Stack</th>\n",
       "      <th>Enemy Stack</th>\n",
       "      <th>Role 1</th>\n",
       "      <th>Role 2</th>\n",
       "      <th>...</th>\n",
       "      <th>Obj_time_career</th>\n",
       "      <th>Obj_time_medal</th>\n",
       "      <th>Dmg</th>\n",
       "      <th>Dmg_career</th>\n",
       "      <th>Dmg_medal</th>\n",
       "      <th>Heal</th>\n",
       "      <th>Heal_career</th>\n",
       "      <th>Heal_medal</th>\n",
       "      <th>Death</th>\n",
       "      <th>Death_career</th>\n",
       "    </tr>\n",
       "  </thead>\n",
       "  <tbody>\n",
       "    <tr>\n",
       "      <th>4</th>\n",
       "      <td>112</td>\n",
       "      <td>1841</td>\n",
       "      <td>1866</td>\n",
       "      <td>25</td>\n",
       "      <td>1900.0</td>\n",
       "      <td>1891.0</td>\n",
       "      <td>4.0</td>\n",
       "      <td>3.0</td>\n",
       "      <td>Tank</td>\n",
       "      <td>Support</td>\n",
       "      <td>...</td>\n",
       "      <td>01:27</td>\n",
       "      <td>None</td>\n",
       "      <td>2658.0</td>\n",
       "      <td>5251.0</td>\n",
       "      <td>None</td>\n",
       "      <td>2330.0</td>\n",
       "      <td>6608.0</td>\n",
       "      <td>Silver</td>\n",
       "      <td>5.0</td>\n",
       "      <td>6.96</td>\n",
       "    </tr>\n",
       "    <tr>\n",
       "      <th>5</th>\n",
       "      <td>113</td>\n",
       "      <td>1866</td>\n",
       "      <td>1901</td>\n",
       "      <td>35</td>\n",
       "      <td>1891.0</td>\n",
       "      <td>1896.0</td>\n",
       "      <td>1.0</td>\n",
       "      <td>1.0</td>\n",
       "      <td>Support</td>\n",
       "      <td>NaN</td>\n",
       "      <td>...</td>\n",
       "      <td>01:33</td>\n",
       "      <td>Gold</td>\n",
       "      <td>6324.0</td>\n",
       "      <td>5460.0</td>\n",
       "      <td>Bronze</td>\n",
       "      <td>9635.0</td>\n",
       "      <td>7888.0</td>\n",
       "      <td>Gold</td>\n",
       "      <td>4.0</td>\n",
       "      <td>6.61</td>\n",
       "    </tr>\n",
       "    <tr>\n",
       "      <th>7</th>\n",
       "      <td>115</td>\n",
       "      <td>1926</td>\n",
       "      <td>1958</td>\n",
       "      <td>32</td>\n",
       "      <td>1943.0</td>\n",
       "      <td>1949.0</td>\n",
       "      <td>1.0</td>\n",
       "      <td>1.0</td>\n",
       "      <td>Support</td>\n",
       "      <td>NaN</td>\n",
       "      <td>...</td>\n",
       "      <td>01:33</td>\n",
       "      <td>Gold</td>\n",
       "      <td>5871.0</td>\n",
       "      <td>5453.0</td>\n",
       "      <td>None</td>\n",
       "      <td>10761.0</td>\n",
       "      <td>7902.0</td>\n",
       "      <td>Gold</td>\n",
       "      <td>5.0</td>\n",
       "      <td>6.58</td>\n",
       "    </tr>\n",
       "    <tr>\n",
       "      <th>9</th>\n",
       "      <td>117</td>\n",
       "      <td>1937</td>\n",
       "      <td>1968</td>\n",
       "      <td>31</td>\n",
       "      <td>1945.0</td>\n",
       "      <td>1960.0</td>\n",
       "      <td>3.0</td>\n",
       "      <td>2.0</td>\n",
       "      <td>Support</td>\n",
       "      <td>NaN</td>\n",
       "      <td>...</td>\n",
       "      <td>01:33</td>\n",
       "      <td>Bronze</td>\n",
       "      <td>5678.0</td>\n",
       "      <td>5454.0</td>\n",
       "      <td>Bronze</td>\n",
       "      <td>8491.0</td>\n",
       "      <td>7909.0</td>\n",
       "      <td>Gold</td>\n",
       "      <td>5.0</td>\n",
       "      <td>6.55</td>\n",
       "    </tr>\n",
       "    <tr>\n",
       "      <th>10</th>\n",
       "      <td>118</td>\n",
       "      <td>1968</td>\n",
       "      <td>1996</td>\n",
       "      <td>28</td>\n",
       "      <td>1982.0</td>\n",
       "      <td>2012.0</td>\n",
       "      <td>2.0</td>\n",
       "      <td>1.0</td>\n",
       "      <td>Support</td>\n",
       "      <td>NaN</td>\n",
       "      <td>...</td>\n",
       "      <td>01:34</td>\n",
       "      <td>None</td>\n",
       "      <td>6096.0</td>\n",
       "      <td>5450.0</td>\n",
       "      <td>None</td>\n",
       "      <td>9919.0</td>\n",
       "      <td>7915.0</td>\n",
       "      <td>Gold</td>\n",
       "      <td>9.0</td>\n",
       "      <td>6.57</td>\n",
       "    </tr>\n",
       "    <tr>\n",
       "      <th>11</th>\n",
       "      <td>119</td>\n",
       "      <td>1996</td>\n",
       "      <td>2023</td>\n",
       "      <td>27</td>\n",
       "      <td>2004.0</td>\n",
       "      <td>2004.0</td>\n",
       "      <td>2.0</td>\n",
       "      <td>2.0</td>\n",
       "      <td>Support</td>\n",
       "      <td>NaN</td>\n",
       "      <td>...</td>\n",
       "      <td>01:34</td>\n",
       "      <td>Silver</td>\n",
       "      <td>6200.0</td>\n",
       "      <td>5446.0</td>\n",
       "      <td>None</td>\n",
       "      <td>10821.0</td>\n",
       "      <td>7928.0</td>\n",
       "      <td>Gold</td>\n",
       "      <td>7.0</td>\n",
       "      <td>6.56</td>\n",
       "    </tr>\n",
       "    <tr>\n",
       "      <th>13</th>\n",
       "      <td>121</td>\n",
       "      <td>2003</td>\n",
       "      <td>2030</td>\n",
       "      <td>27</td>\n",
       "      <td>2000.0</td>\n",
       "      <td>1992.0</td>\n",
       "      <td>1.0</td>\n",
       "      <td>1.0</td>\n",
       "      <td>Support</td>\n",
       "      <td>NaN</td>\n",
       "      <td>...</td>\n",
       "      <td>01:48</td>\n",
       "      <td>Silver</td>\n",
       "      <td>5463.0</td>\n",
       "      <td>3525.0</td>\n",
       "      <td>None</td>\n",
       "      <td>9203.0</td>\n",
       "      <td>8201.0</td>\n",
       "      <td>Silver</td>\n",
       "      <td>9.0</td>\n",
       "      <td>7.98</td>\n",
       "    </tr>\n",
       "    <tr>\n",
       "      <th>14</th>\n",
       "      <td>122</td>\n",
       "      <td>2030</td>\n",
       "      <td>2054</td>\n",
       "      <td>24</td>\n",
       "      <td>2002.0</td>\n",
       "      <td>2012.0</td>\n",
       "      <td>2.0</td>\n",
       "      <td>2.0</td>\n",
       "      <td>Tank</td>\n",
       "      <td>NaN</td>\n",
       "      <td>...</td>\n",
       "      <td>01:30</td>\n",
       "      <td>Bronze</td>\n",
       "      <td>7647.0</td>\n",
       "      <td>5253.0</td>\n",
       "      <td>None</td>\n",
       "      <td>0.0</td>\n",
       "      <td>6613.0</td>\n",
       "      <td>None</td>\n",
       "      <td>13.0</td>\n",
       "      <td>6.92</td>\n",
       "    </tr>\n",
       "    <tr>\n",
       "      <th>15</th>\n",
       "      <td>123</td>\n",
       "      <td>2054</td>\n",
       "      <td>2081</td>\n",
       "      <td>27</td>\n",
       "      <td>2051.0</td>\n",
       "      <td>2066.0</td>\n",
       "      <td>1.0</td>\n",
       "      <td>2.0</td>\n",
       "      <td>Support</td>\n",
       "      <td>NaN</td>\n",
       "      <td>...</td>\n",
       "      <td>01:35</td>\n",
       "      <td>Gold</td>\n",
       "      <td>4361.0</td>\n",
       "      <td>5452.0</td>\n",
       "      <td>None</td>\n",
       "      <td>5802.0</td>\n",
       "      <td>7941.0</td>\n",
       "      <td>Gold</td>\n",
       "      <td>2.0</td>\n",
       "      <td>6.51</td>\n",
       "    </tr>\n",
       "    <tr>\n",
       "      <th>16</th>\n",
       "      <td>124</td>\n",
       "      <td>2081</td>\n",
       "      <td>2110</td>\n",
       "      <td>29</td>\n",
       "      <td>2060.0</td>\n",
       "      <td>2028.0</td>\n",
       "      <td>4.0</td>\n",
       "      <td>4.0</td>\n",
       "      <td>Support</td>\n",
       "      <td>NaN</td>\n",
       "      <td>...</td>\n",
       "      <td>01:30</td>\n",
       "      <td>Gold</td>\n",
       "      <td>7258.0</td>\n",
       "      <td>5258.0</td>\n",
       "      <td>Bronze</td>\n",
       "      <td>10287.0</td>\n",
       "      <td>6629.0</td>\n",
       "      <td>Silver</td>\n",
       "      <td>7.0</td>\n",
       "      <td>6.88</td>\n",
       "    </tr>\n",
       "  </tbody>\n",
       "</table>\n",
       "<p>10 rows × 32 columns</p>\n",
       "</div>"
      ],
      "text/plain": [
       "    Game #  Start SR  End SR  SR Change  Team SR avg  Enemy SR avg  \\\n",
       "4      112      1841    1866         25       1900.0        1891.0   \n",
       "5      113      1866    1901         35       1891.0        1896.0   \n",
       "7      115      1926    1958         32       1943.0        1949.0   \n",
       "9      117      1937    1968         31       1945.0        1960.0   \n",
       "10     118      1968    1996         28       1982.0        2012.0   \n",
       "11     119      1996    2023         27       2004.0        2004.0   \n",
       "13     121      2003    2030         27       2000.0        1992.0   \n",
       "14     122      2030    2054         24       2002.0        2012.0   \n",
       "15     123      2054    2081         27       2051.0        2066.0   \n",
       "16     124      2081    2110         29       2060.0        2028.0   \n",
       "\n",
       "    Team Stack  Enemy Stack   Role 1   Role 2      ...      Obj_time_career  \\\n",
       "4          4.0          3.0     Tank  Support      ...                01:27   \n",
       "5          1.0          1.0  Support      NaN      ...                01:33   \n",
       "7          1.0          1.0  Support      NaN      ...                01:33   \n",
       "9          3.0          2.0  Support      NaN      ...                01:33   \n",
       "10         2.0          1.0  Support      NaN      ...                01:34   \n",
       "11         2.0          2.0  Support      NaN      ...                01:34   \n",
       "13         1.0          1.0  Support      NaN      ...                01:48   \n",
       "14         2.0          2.0     Tank      NaN      ...                01:30   \n",
       "15         1.0          2.0  Support      NaN      ...                01:35   \n",
       "16         4.0          4.0  Support      NaN      ...                01:30   \n",
       "\n",
       "    Obj_time_medal     Dmg Dmg_career  Dmg_medal     Heal  Heal_career  \\\n",
       "4             None  2658.0     5251.0       None   2330.0       6608.0   \n",
       "5             Gold  6324.0     5460.0     Bronze   9635.0       7888.0   \n",
       "7             Gold  5871.0     5453.0       None  10761.0       7902.0   \n",
       "9           Bronze  5678.0     5454.0     Bronze   8491.0       7909.0   \n",
       "10            None  6096.0     5450.0       None   9919.0       7915.0   \n",
       "11          Silver  6200.0     5446.0       None  10821.0       7928.0   \n",
       "13          Silver  5463.0     3525.0       None   9203.0       8201.0   \n",
       "14          Bronze  7647.0     5253.0       None      0.0       6613.0   \n",
       "15            Gold  4361.0     5452.0       None   5802.0       7941.0   \n",
       "16            Gold  7258.0     5258.0     Bronze  10287.0       6629.0   \n",
       "\n",
       "   Heal_medal  Death  Death_career  \n",
       "4      Silver    5.0          6.96  \n",
       "5        Gold    4.0          6.61  \n",
       "7        Gold    5.0          6.58  \n",
       "9        Gold    5.0          6.55  \n",
       "10       Gold    9.0          6.57  \n",
       "11       Gold    7.0          6.56  \n",
       "13     Silver    9.0          7.98  \n",
       "14       None   13.0          6.92  \n",
       "15       Gold    2.0          6.51  \n",
       "16     Silver    7.0          6.88  \n",
       "\n",
       "[10 rows x 32 columns]"
      ]
     },
     "execution_count": 65,
     "metadata": {},
     "output_type": "execute_result"
    }
   ],
   "source": [
    "ow_won = ow_denull[ow_denull['Result']=='Win']\n",
    "ow_won.head(10)"
   ]
  },
  {
   "cell_type": "markdown",
   "metadata": {},
   "source": [
    "Showing that dealing damage is not everything: high damage output but there are 19 lost games. Example is below."
   ]
  },
  {
   "cell_type": "code",
   "execution_count": 66,
   "metadata": {},
   "outputs": [
    {
     "data": {
      "text/plain": [
       "18"
      ]
     },
     "execution_count": 66,
     "metadata": {},
     "output_type": "execute_result"
    }
   ],
   "source": [
    "ow_hidmg = ow_denull[ow_denull['Dmg']>7500]\n",
    "ow_yetlost = ow_hidmg[ow_hidmg['Result']=='Loss']\n",
    "ow_yetlost['Game #'].count()"
   ]
  },
  {
   "cell_type": "markdown",
   "metadata": {},
   "source": [
    "Winrate of the player who plays solo:"
   ]
  },
  {
   "cell_type": "code",
   "execution_count": 67,
   "metadata": {},
   "outputs": [
    {
     "name": "stdout",
     "output_type": "stream",
     "text": [
      "0.5492957746478874\n"
     ]
    }
   ],
   "source": [
    "ow_sologame = ow_denull[ow_denull['Team Stack'] < 2]\n",
    "winsolo = 0\n",
    "solocnt = 0\n",
    "for x in ow_sologame['Result']:\n",
    "    if x == 'Win':\n",
    "        winsolo = winsolo + 1\n",
    "    solocnt = solocnt + 1\n",
    "print(winsolo/solocnt)"
   ]
  },
  {
   "cell_type": "markdown",
   "metadata": {},
   "source": [
    "Let's see if enemies playing as groups have impact on the win rate"
   ]
  },
  {
   "cell_type": "code",
   "execution_count": 68,
   "metadata": {},
   "outputs": [
    {
     "name": "stdout",
     "output_type": "stream",
     "text": [
      "0.5968992248062015\n"
     ]
    }
   ],
   "source": [
    "ow_enemygrp = ow_denull[ow_denull['Enemy Stack'] >= 2]\n",
    "winenemygrp = 0\n",
    "engrpcnt = 0\n",
    "for x in ow_enemygrp['Result']:\n",
    "    if x == 'Win':\n",
    "        winenemygrp = winenemygrp + 1\n",
    "    engrpcnt = engrpcnt + 1\n",
    "print(winenemygrp/engrpcnt)"
   ]
  },
  {
   "cell_type": "markdown",
   "metadata": {},
   "source": [
    "Winrate of the player who plays with one or multiple friends:"
   ]
  },
  {
   "cell_type": "code",
   "execution_count": 69,
   "metadata": {},
   "outputs": [
    {
     "name": "stdout",
     "output_type": "stream",
     "text": [
      "0.5431034482758621\n"
     ]
    }
   ],
   "source": [
    "ow_notsologame = ow_denull[ow_denull['Team Stack'] >= 2]\n",
    "wingrp = 0\n",
    "grpcnt = 0\n",
    "for x in ow_notsologame['Result']:\n",
    "    if x == 'Win':\n",
    "        wingrp = wingrp + 1\n",
    "    grpcnt = grpcnt + 1\n",
    "print(wingrp/grpcnt)"
   ]
  },
  {
   "cell_type": "markdown",
   "metadata": {},
   "source": [
    "Creating a new DataFrame of the games won and lost by the player and printing several attributes such as the number of outcomes."
   ]
  },
  {
   "cell_type": "code",
   "execution_count": 71,
   "metadata": {},
   "outputs": [
    {
     "name": "stdout",
     "output_type": "stream",
     "text": [
      "102\n",
      "82\n",
      "0.5454545454545454\n"
     ]
    }
   ],
   "source": [
    "ow_won = ow_denull[ow_denull['Result']=='Win']\n",
    "ow_lost = ow_denull[ow_denull['Result']=='Loss']\n",
    "ow_won.head(10)\n",
    "print(ow_won['Game #'].count())\n",
    "print(ow_lost['Game #'].count())\n",
    "print((ow_won['Game #']).count()/(ow_denull['Game #'].count()))"
   ]
  },
  {
   "cell_type": "markdown",
   "metadata": {},
   "source": [
    "Inserting a column which is a simplified version of Result. If match has won, then value is 1 or reverse with value 0."
   ]
  },
  {
   "cell_type": "code",
   "execution_count": 72,
   "metadata": {},
   "outputs": [],
   "source": [
    "list = []\n",
    "for x in ow_denull.Result:\n",
    "    if x == 'Win':\n",
    "        list.append(1)\n",
    "    else:\n",
    "        list.append(0)\n",
    "ow_denull.insert(32,'Result_Value',list)"
   ]
  },
  {
   "cell_type": "markdown",
   "metadata": {},
   "source": [
    "Showing correlations of some important values. This will give brief information about that attributes relations."
   ]
  },
  {
   "cell_type": "code",
   "execution_count": 73,
   "metadata": {},
   "outputs": [
    {
     "name": "stdout",
     "output_type": "stream",
     "text": [
      "              Team Stack  Result_Value\n",
      "Team Stack      1.000000     -0.019276\n",
      "Result_Value   -0.019276      1.000000\n",
      "\n",
      "\n",
      "              Enemy Stack  Result_Value\n",
      "Enemy Stack      1.000000      0.083923\n",
      "Result_Value     0.083923      1.000000\n",
      "\n",
      "\n",
      "                   Dmg  Result_Value\n",
      "Dmg           1.000000      0.084024\n",
      "Result_Value  0.084024      1.000000\n",
      "\n",
      "\n",
      "                  Heal  Result_Value\n",
      "Heal          1.000000      0.072615\n",
      "Result_Value  0.072615      1.000000\n",
      "\n",
      "\n",
      "             Streak  SR Change\n",
      "Streak     1.000000   0.843756\n",
      "SR Change  0.843756   1.000000\n"
     ]
    }
   ],
   "source": [
    "print(ow_denull[['Team Stack','Result_Value']].corr())\n",
    "print('\\n')\n",
    "print(ow_denull[['Enemy Stack','Result_Value']].corr())\n",
    "print('\\n')\n",
    "print(ow_denull[['Dmg','Result_Value']].corr())\n",
    "print('\\n')\n",
    "print(ow_denull[['Heal','Result_Value']].corr())\n",
    "print('\\n')\n",
    "print(ow_denull[['Streak','SR Change']].corr())"
   ]
  },
  {
   "cell_type": "markdown",
   "metadata": {},
   "source": [
    "## 5. Visualization"
   ]
  },
  {
   "cell_type": "markdown",
   "metadata": {},
   "source": [
    "Visualization of the win-lose record including all matches by pie graph"
   ]
  },
  {
   "cell_type": "code",
   "execution_count": 74,
   "metadata": {},
   "outputs": [
    {
     "data": {
      "image/png": "[encoded data removed]",
      "text/plain": [
       "<Figure size 432x288 with 1 Axes>"
      ]
     },
     "metadata": {},
     "output_type": "display_data"
    }
   ],
   "source": [
    "winrate = [ow_lost['Game #'].count(),ow_won['Game #'].count()]\n",
    "wrpie = plt.pie(winrate, labels = ['Lose', 'Win'], autopct ='%1.1f%%')\n",
    "plt.title('Win/Lose Ratio')\n",
    "piewl = plt.gcf()"
   ]
  },
  {
   "cell_type": "markdown",
   "metadata": {},
   "source": [
    "Visualizing impact of the match time to the damage. According to the graph, when match time is higher, damage been dealt is higher"
   ]
  },
  {
   "cell_type": "code",
   "execution_count": 75,
   "metadata": {},
   "outputs": [
    {
     "data": {
      "text/plain": [
       "<matplotlib.axes._subplots.AxesSubplot at 0x1d0bc324940>"
      ]
     },
     "execution_count": 75,
     "metadata": {},
     "output_type": "execute_result"
    },
    {
     "data": {
      "image/png": "[encoded data removed]",
      "text/plain": [
       "<Figure size 432x288 with 1 Axes>"
      ]
     },
     "metadata": {
      "needs_background": "light"
     },
     "output_type": "display_data"
    }
   ],
   "source": [
    "ow_denull.plot.scatter(x='Match Time', y='Dmg')"
   ]
  },
  {
   "cell_type": "markdown",
   "metadata": {},
   "source": [
    "Graph of the team stack in all games"
   ]
  },
  {
   "cell_type": "code",
   "execution_count": 76,
   "metadata": {},
   "outputs": [
    {
     "data": {
      "text/plain": [
       "<matplotlib.axes._subplots.AxesSubplot at 0x1d0bc380e48>"
      ]
     },
     "execution_count": 76,
     "metadata": {},
     "output_type": "execute_result"
    },
    {
     "data": {
      "image/png": "[encoded data removed]",
      "text/plain": [
       "<Figure size 432x288 with 1 Axes>"
      ]
     },
     "metadata": {
      "needs_background": "light"
     },
     "output_type": "display_data"
    }
   ],
   "source": [
    "ow_denull.groupby('Team Stack').size().plot.bar()"
   ]
  },
  {
   "cell_type": "markdown",
   "metadata": {},
   "source": [
    "Graph of the enemy stack in all games"
   ]
  },
  {
   "cell_type": "code",
   "execution_count": 77,
   "metadata": {},
   "outputs": [
    {
     "data": {
      "text/plain": [
       "<matplotlib.axes._subplots.AxesSubplot at 0x1d0bc3d8a20>"
      ]
     },
     "execution_count": 77,
     "metadata": {},
     "output_type": "execute_result"
    },
    {
     "data": {
      "image/png": "[encoded data removed]",
      "text/plain": [
       "<Figure size 432x288 with 1 Axes>"
      ]
     },
     "metadata": {
      "needs_background": "light"
     },
     "output_type": "display_data"
    }
   ],
   "source": [
    "ow_denull.groupby('Enemy Stack').size().plot.bar()"
   ]
  },
  {
   "cell_type": "markdown",
   "metadata": {},
   "source": [
    "Graph of SR Change in all games. SR Change is the Start SR minus End SR."
   ]
  },
  {
   "cell_type": "code",
   "execution_count": 78,
   "metadata": {},
   "outputs": [
    {
     "data": {
      "text/plain": [
       "<matplotlib.axes._subplots.AxesSubplot at 0x1d0bc4344a8>"
      ]
     },
     "execution_count": 78,
     "metadata": {},
     "output_type": "execute_result"
    },
    {
     "data": {
      "image/png": "[encoded data removed]",
      "text/plain": [
       "<Figure size 432x288 with 1 Axes>"
      ]
     },
     "metadata": {
      "needs_background": "light"
     },
     "output_type": "display_data"
    }
   ],
   "source": [
    "ow_denull.groupby('SR Change').size().plot(kind='bar')"
   ]
  },
  {
   "cell_type": "markdown",
   "metadata": {},
   "source": [
    "Graph of the role distribution of the player"
   ]
  },
  {
   "cell_type": "code",
   "execution_count": 82,
   "metadata": {},
   "outputs": [
    {
     "data": {
      "text/plain": [
       "<matplotlib.axes._subplots.AxesSubplot at 0x1d0bd627d30>"
      ]
     },
     "execution_count": 82,
     "metadata": {},
     "output_type": "execute_result"
    },
    {
     "data": {
      "image/png": "[encoded data removed]",
      "text/plain": [
       "<Figure size 432x288 with 1 Axes>"
      ]
     },
     "metadata": {
      "needs_background": "light"
     },
     "output_type": "display_data"
    }
   ],
   "source": [
    "ow_denull.groupby('Role 1').size().plot(kind='bar')"
   ]
  },
  {
   "cell_type": "markdown",
   "metadata": {},
   "source": [
    "Visualization of whether elimination/death ratio impacts on the SR Change\n",
    "\n",
    "Note: 0 deaths with eliminations is considered as \"perfect ratio\", in this code block, we converted 0 deaths to 1 death in terms of avoiding from the ZeroDivisionError exception."
   ]
  },
  {
   "cell_type": "code",
   "execution_count": 100,
   "metadata": {},
   "outputs": [
    {
     "data": {
      "text/plain": [
       "<matplotlib.axes._subplots.AxesSubplot at 0x1d0bd60f390>"
      ]
     },
     "execution_count": 100,
     "metadata": {},
     "output_type": "execute_result"
    },
    {
     "data": {
      "image/png": "[encoded data removed]",
      "text/plain": [
       "<Figure size 432x288 with 1 Axes>"
      ]
     },
     "metadata": {
      "needs_background": "light"
     },
     "output_type": "display_data"
    }
   ],
   "source": [
    "liste = []\n",
    "listd = []\n",
    "list_ratio = []\n",
    "for x in ow_denull['Elim'].values:\n",
    "    liste.append(x)\n",
    "for y in ow_denull['Death'].values:\n",
    "    listd.append(y)\n",
    "for a, b in zip(liste, listd):\n",
    "    if b == 0: b = 1\n",
    "    list_ratio.append(float(float(a) / float(b)))\n",
    "ow_denull.insert(33,'Elim-Death_Ratio',list_ratio)\n",
    "ow_denull.plot.scatter(x='Elim-Death_Ratio', y='SR Change')"
   ]
  },
  {
   "cell_type": "markdown",
   "metadata": {},
   "source": [
    "Defining plot function to use attributes in the y axis of graphs."
   ]
  },
  {
   "cell_type": "code",
   "execution_count": 121,
   "metadata": {},
   "outputs": [],
   "source": [
    "def plot(group,column,plot):\n",
    "    ax=plt.figure(figsize=(20,10))\n",
    "    ow_denull.groupby(group)[column].sum().sort_index().plot(plot)"
   ]
  },
  {
   "cell_type": "markdown",
   "metadata": {},
   "source": [
    "Graph of eliminations and their corresponding damage in matches. In this table we can see that dealing more damage has not so much effect on the elimination count."
   ]
  },
  {
   "cell_type": "code",
   "execution_count": 123,
   "metadata": {},
   "outputs": [
    {
     "data": {
      "image/png": "[encoded data removed]",
      "text/plain": [
       "<Figure size 1440x720 with 1 Axes>"
      ]
     },
     "metadata": {
      "needs_background": "light"
     },
     "output_type": "display_data"
    }
   ],
   "source": [
    "plot('Elim','Dmg','barh')"
   ]
  },
  {
   "cell_type": "markdown",
   "metadata": {},
   "source": [
    "Heatmap of the dataset."
   ]
  },
  {
   "cell_type": "code",
   "execution_count": 136,
   "metadata": {},
   "outputs": [
    {
     "data": {
      "text/plain": [
       "<matplotlib.axes._subplots.AxesSubplot at 0x1d0be5be828>"
      ]
     },
     "execution_count": 136,
     "metadata": {},
     "output_type": "execute_result"
    },
    {
     "data": {
      "image/png": "[encoded data removed]",
      "text/plain": [
       "<Figure size 720x720 with 2 Axes>"
      ]
     },
     "metadata": {
      "needs_background": "light"
     },
     "output_type": "display_data"
    }
   ],
   "source": [
    "f,ax = plt.subplots(figsize=(10,10))\n",
    "sns.heatmap(ow_denull.corr(), linewidths=0.5)"
   ]
  }
 ],
 "metadata": {
  "kernelspec": {
   "display_name": "Python 3",
   "language": "python",
   "name": "python3"
  },
  "language_info": {
   "codemirror_mode": {
    "name": "ipython",
    "version": 3
   },
   "file_extension": ".py",
   "mimetype": "text/x-python",
   "name": "python",
   "nbconvert_exporter": "python",
   "pygments_lexer": "ipython3",
   "version": "3.6.7"
  }
 },
 "nbformat": 4,
 "nbformat_minor": 2
}
